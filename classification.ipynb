{
  "nbformat": 4,
  "nbformat_minor": 0,
  "metadata": {
    "colab": {
      "name": "classification.ipynb",
      "provenance": [],
      "collapsed_sections": [],
      "authorship_tag": "ABX9TyNxAqNCyrUlaregbaNPaG8n",
      "include_colab_link": true
    },
    "kernelspec": {
      "name": "python3",
      "display_name": "Python 3"
    },
    "language_info": {
      "name": "python"
    }
  },
  "cells": [
    {
      "cell_type": "markdown",
      "metadata": {
        "id": "view-in-github",
        "colab_type": "text"
      },
      "source": [
        "<a href=\"https://colab.research.google.com/github/Kudrettinkadir/samples/blob/master/classification.ipynb\" target=\"_parent\"><img src=\"https://colab.research.google.com/assets/colab-badge.svg\" alt=\"Open In Colab\"/></a>"
      ]
    },
    {
      "cell_type": "code",
      "metadata": {
        "id": "6OX5kBNYHICH"
      },
      "source": [
        "from sklearn.datasets  import load_iris\n",
        "from sklearn.model_selection import train_test_split\n",
        "from sklearn.naive_bayes import GaussianNB\n",
        "X, y = load_iris(return_X_y = True)\n",
        "X_train,X_test ,y_train,y_test=train_test_split(X,y,test_size=0.2)"
      ],
      "execution_count": 29,
      "outputs": []
    },
    {
      "cell_type": "code",
      "metadata": {
        "colab": {
          "base_uri": "https://localhost:8080/"
        },
        "id": "AoYkSpIOIsw7",
        "outputId": "8084cd89-dd15-4d0a-921f-cd075d25e289"
      },
      "source": [
        "gnb = GaussianNB()\n",
        "gnb.fit(X_train,y_train)#X_train label,y_train girdiler"
      ],
      "execution_count": 30,
      "outputs": [
        {
          "output_type": "execute_result",
          "data": {
            "text/plain": [
              "GaussianNB(priors=None, var_smoothing=1e-09)"
            ]
          },
          "metadata": {
            "tags": []
          },
          "execution_count": 30
        }
      ]
    },
    {
      "cell_type": "code",
      "metadata": {
        "colab": {
          "base_uri": "https://localhost:8080/"
        },
        "id": "CKcHMmDDK5bn",
        "outputId": "d87edf30-675d-4bda-e740-e85491a8f523"
      },
      "source": [
        "y_predict = gnb.predict(X_test)\n",
        "y_predict"
      ],
      "execution_count": 31,
      "outputs": [
        {
          "output_type": "execute_result",
          "data": {
            "text/plain": [
              "array([0, 1, 0, 0, 2, 2, 1, 0, 1, 2, 1, 2, 1, 1, 2, 0, 1, 1, 0, 2, 1, 0,\n",
              "       2, 0, 0, 2, 0, 0, 0, 2])"
            ]
          },
          "metadata": {
            "tags": []
          },
          "execution_count": 31
        }
      ]
    },
    {
      "cell_type": "code",
      "metadata": {
        "colab": {
          "base_uri": "https://localhost:8080/"
        },
        "id": "9_bEkwVrLBvT",
        "outputId": "ddcfd844-5932-4f52-ef74-330ce0529018"
      },
      "source": [
        "y_test"
      ],
      "execution_count": 32,
      "outputs": [
        {
          "output_type": "execute_result",
          "data": {
            "text/plain": [
              "array([0, 1, 0, 0, 2, 2, 2, 0, 1, 2, 1, 1, 1, 1, 2, 0, 1, 1, 0, 2, 2, 0,\n",
              "       2, 0, 0, 2, 0, 0, 0, 2])"
            ]
          },
          "metadata": {
            "tags": []
          },
          "execution_count": 32
        }
      ]
    },
    {
      "cell_type": "code",
      "metadata": {
        "colab": {
          "base_uri": "https://localhost:8080/"
        },
        "id": "NKzRIVahLUEv",
        "outputId": "e73ef048-4695-4900-a343-07c7fbf52f00"
      },
      "source": [
        "from  sklearn.metrics import accuracy_score,precision_score\n",
        "accuracy_score(y_test,y_predict)\n",
        "#precision_score(y_test,y_predict, average=None)"
      ],
      "execution_count": 56,
      "outputs": [
        {
          "output_type": "execute_result",
          "data": {
            "text/plain": [
              "0.9"
            ]
          },
          "metadata": {
            "tags": []
          },
          "execution_count": 56
        }
      ]
    },
    {
      "cell_type": "code",
      "metadata": {
        "id": "CxHLB5JTPqfo"
      },
      "source": [
        "from sklearn import tree\n",
        "dtc =tree.DecisionTreeClassifier()\n",
        "dtc.fit(X_train,y_train)\n",
        "y_predict = dtc.predict(X_test)"
      ],
      "execution_count": 38,
      "outputs": []
    },
    {
      "cell_type": "code",
      "metadata": {
        "colab": {
          "base_uri": "https://localhost:8080/"
        },
        "id": "6I501exPP5li",
        "outputId": "77f61edc-6229-4cf0-8e3f-34f373bffef1"
      },
      "source": [
        "y_predict"
      ],
      "execution_count": 40,
      "outputs": [
        {
          "output_type": "execute_result",
          "data": {
            "text/plain": [
              "array([0, 1, 0, 0, 2, 2, 1, 0, 1, 2, 1, 1, 1, 1, 2, 0, 1, 1, 0, 2, 1, 0,\n",
              "       2, 0, 0, 2, 0, 0, 0, 2])"
            ]
          },
          "metadata": {
            "tags": []
          },
          "execution_count": 40
        }
      ]
    },
    {
      "cell_type": "code",
      "metadata": {
        "colab": {
          "base_uri": "https://localhost:8080/"
        },
        "id": "uG4qlkiXQJ2W",
        "outputId": "e392c97f-9243-41e9-a852-0d76d71d3d92"
      },
      "source": [
        "y_test"
      ],
      "execution_count": 39,
      "outputs": [
        {
          "output_type": "execute_result",
          "data": {
            "text/plain": [
              "array([0, 1, 0, 0, 2, 2, 2, 0, 1, 2, 1, 1, 1, 1, 2, 0, 1, 1, 0, 2, 2, 0,\n",
              "       2, 0, 0, 2, 0, 0, 0, 2])"
            ]
          },
          "metadata": {
            "tags": []
          },
          "execution_count": 39
        }
      ]
    },
    {
      "cell_type": "code",
      "metadata": {
        "colab": {
          "base_uri": "https://localhost:8080/"
        },
        "id": "9oFS-_I5QQvv",
        "outputId": "f20663c9-2a69-4b00-d2da-7e49adff4ea3"
      },
      "source": [
        "from  sklearn.metrics import accuracy_score,precision_score\n",
        "accuracy_score(y_test,y_predict)\n",
        "precision_score(y_test,y_predict, average=None)"
      ],
      "execution_count": 41,
      "outputs": [
        {
          "output_type": "execute_result",
          "data": {
            "text/plain": [
              "array([1. , 0.8, 1. ])"
            ]
          },
          "metadata": {
            "tags": []
          },
          "execution_count": 41
        }
      ]
    },
    {
      "cell_type": "code",
      "metadata": {
        "id": "H55RGgRWQTUO"
      },
      "source": [
        "from sklearn.neighbors import NearestCentroid\n",
        "\n",
        "nn = NearestCentroid()\n",
        "nn.fit(X_train, y_train)\n",
        "y_predict = nn.predict(X_test)"
      ],
      "execution_count": 57,
      "outputs": []
    },
    {
      "cell_type": "code",
      "metadata": {
        "colab": {
          "base_uri": "https://localhost:8080/"
        },
        "id": "_l2IKl7BRL7G",
        "outputId": "16f73fc3-a3ae-4698-c5be-fde721641f34"
      },
      "source": [
        "from  sklearn.metrics import accuracy_score,precision_score\n",
        "accuracy_score(y_test,y_predict)"
      ],
      "execution_count": 58,
      "outputs": [
        {
          "output_type": "execute_result",
          "data": {
            "text/plain": [
              "0.9"
            ]
          },
          "metadata": {
            "tags": []
          },
          "execution_count": 58
        }
      ]
    },
    {
      "cell_type": "code",
      "metadata": {
        "colab": {
          "base_uri": "https://localhost:8080/"
        },
        "id": "ixpTXGzoQ-U5",
        "outputId": "b5146218-5fd7-4adf-957a-7d85cbf8d208"
      },
      "source": [
        "y_predict"
      ],
      "execution_count": 59,
      "outputs": [
        {
          "output_type": "execute_result",
          "data": {
            "text/plain": [
              "array([0, 1, 0, 0, 2, 2, 1, 0, 1, 2, 1, 2, 1, 1, 2, 0, 1, 1, 0, 2, 1, 0,\n",
              "       2, 0, 0, 2, 0, 0, 0, 2])"
            ]
          },
          "metadata": {
            "tags": []
          },
          "execution_count": 59
        }
      ]
    },
    {
      "cell_type": "code",
      "metadata": {
        "colab": {
          "base_uri": "https://localhost:8080/"
        },
        "id": "ZMCfbVOnRBcW",
        "outputId": "d6c51315-8a8f-4027-ea48-5b6550abe580"
      },
      "source": [
        "y_test"
      ],
      "execution_count": 60,
      "outputs": [
        {
          "output_type": "execute_result",
          "data": {
            "text/plain": [
              "array([0, 1, 0, 0, 2, 2, 2, 0, 1, 2, 1, 1, 1, 1, 2, 0, 1, 1, 0, 2, 2, 0,\n",
              "       2, 0, 0, 2, 0, 0, 0, 2])"
            ]
          },
          "metadata": {
            "tags": []
          },
          "execution_count": 60
        }
      ]
    },
    {
      "cell_type": "code",
      "metadata": {
        "id": "oQz483_OSKpa"
      },
      "source": [
        "from sklearn.neural_network import MLPClassifier\n",
        "mlp = MLPClassifier()"
      ],
      "execution_count": 62,
      "outputs": []
    },
    {
      "cell_type": "code",
      "metadata": {
        "colab": {
          "base_uri": "https://localhost:8080/"
        },
        "id": "7ZOOTQvWSbZ6",
        "outputId": "4bbf23e8-39c5-414f-b51c-8ce94447d425"
      },
      "source": [
        "mlp.fit(X_train, y_train)\n",
        "y_predict = mlp.predict(X_test)"
      ],
      "execution_count": 64,
      "outputs": [
        {
          "output_type": "stream",
          "text": [
            "/usr/local/lib/python3.7/dist-packages/sklearn/neural_network/_multilayer_perceptron.py:571: ConvergenceWarning: Stochastic Optimizer: Maximum iterations (200) reached and the optimization hasn't converged yet.\n",
            "  % self.max_iter, ConvergenceWarning)\n"
          ],
          "name": "stderr"
        }
      ]
    },
    {
      "cell_type": "code",
      "metadata": {
        "colab": {
          "base_uri": "https://localhost:8080/"
        },
        "id": "IrjurxlLSyA2",
        "outputId": "715cd338-e148-481e-d246-93b32e0b14b6"
      },
      "source": [
        "from  sklearn.metrics import accuracy_score,precision_score\n",
        "accuracy_score(y_test,y_predict)"
      ],
      "execution_count": 65,
      "outputs": [
        {
          "output_type": "execute_result",
          "data": {
            "text/plain": [
              "0.9666666666666667"
            ]
          },
          "metadata": {
            "tags": []
          },
          "execution_count": 65
        }
      ]
    }
  ]
}